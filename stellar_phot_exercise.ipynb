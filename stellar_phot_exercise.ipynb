{
 "cells": [
  {
   "cell_type": "markdown",
   "metadata": {},
   "source": [
    "# Intro to Python with Stellar Photometry\n",
    "\n",
    "In this exercise, we'll get practice using two packages commonly used in astronomy for manipulating data and plotting it: [**`numpy`**](https://www.numpy.org/) and [**`matplotlib`**](https://matplotlib.org/3.1.0/index.html).\n",
    "\n",
    "We'll use these packages to read in data from a simulated Sun-like star, and examine the relations between observable properties (color and magnitude) and theoretical properties (temperature and luminosity) of stars."
   ]
  },
  {
   "cell_type": "markdown",
   "metadata": {},
   "source": [
    "# Python"
   ]
  },
  {
   "cell_type": "markdown",
   "metadata": {},
   "source": [
    "Let's start out by trying out this line."
   ]
  },
  {
   "cell_type": "code",
   "execution_count": null,
   "metadata": {},
   "outputs": [],
   "source": [
    "import this"
   ]
  },
  {
   "cell_type": "markdown",
   "metadata": {},
   "source": [
    "# Preamble"
   ]
  },
  {
   "cell_type": "markdown",
   "metadata": {},
   "source": [
    "Before we get started, we need to initialize the environment. First, for anyone who might be using Python 2, we want to import some commands to ensure everything will be compatible with Python 3."
   ]
  },
  {
   "cell_type": "code",
   "execution_count": null,
   "metadata": {},
   "outputs": [],
   "source": [
    "# ensure Python 2/3 compatibility\n",
    "from __future__ import print_function, division\n",
    "from six.moves import range"
   ]
  },
  {
   "cell_type": "markdown",
   "metadata": {},
   "source": [
    "Some of you might have found that importing `six` failed because the package wasn't installed. Try to see if you can install it using `conda` or `pip`."
   ]
  },
  {
   "cell_type": "markdown",
   "metadata": {},
   "source": [
    "What exactly are we doing by importing these commands? What things changed between Python 2 and 3? Why? Feel free to spend some time searching exactly what we're doing if you're curious."
   ]
  },
  {
   "cell_type": "markdown",
   "metadata": {},
   "source": [
    "# Matplotlib"
   ]
  },
  {
   "cell_type": "markdown",
   "metadata": {},
   "source": [
    "Next, let's import the `pyplot` module from `matplotlib`. This is what we will use to plot things. We will also give it an \"alias\", to make it easier to call when writing our code."
   ]
  },
  {
   "cell_type": "code",
   "execution_count": null,
   "metadata": {},
   "outputs": [],
   "source": [
    "# import plotting utility and define our naming alias\n",
    "from matplotlib import pyplot as plt"
   ]
  },
  {
   "cell_type": "markdown",
   "metadata": {},
   "source": [
    "By default, data will not plot in the confines of our notebook, but instead show up in a separate window. For clarity, we will use one of the \"magic commands\" in Python to enable in-line plotting to ensure our plots will show up in our actual notebook."
   ]
  },
  {
   "cell_type": "code",
   "execution_count": null,
   "metadata": {},
   "outputs": [],
   "source": [
    "# plot figures within the notebook rather than externally\n",
    "%matplotlib inline"
   ]
  },
  {
   "cell_type": "markdown",
   "metadata": {},
   "source": [
    "# NumPy"
   ]
  },
  {
   "cell_type": "markdown",
   "metadata": {},
   "source": [
    "`numpy` is a package that will help a lot in creating arrays and providing math functions that are ready to use in manipulating the data that we will be plotting. Let's import it too."
   ]
  },
  {
   "cell_type": "code",
   "execution_count": null,
   "metadata": {},
   "outputs": [],
   "source": [
    "# import numpy\n",
    "import numpy as np"
   ]
  },
  {
   "cell_type": "markdown",
   "metadata": {},
   "source": [
    "# Warm-Up Exercise"
   ]
  },
  {
   "cell_type": "markdown",
   "metadata": {},
   "source": [
    "## Mock Data"
   ]
  },
  {
   "cell_type": "markdown",
   "metadata": {},
   "source": [
    "Let's quickly generate some data. We'll start with a \"grid\" of points $\\mathbf{x}$ and compute the corresponding output $\\mathbf{y}$."
   ]
  },
  {
   "cell_type": "code",
   "execution_count": null,
   "metadata": {},
   "outputs": [],
   "source": [
    "# define a relationship: y = ax + b\n",
    "a, b = 1., 0.  # the trailing decimal guarantees this is a \"float\" rather than \"int\"\n",
    "\n",
    "# initialize our data\n",
    "n = 50  # number of data points\n",
    "x = np.linspace(0., 100., n)  # our grid of `n` data points from 0. to 100.\n",
    "y = a * x + b  # our output y"
   ]
  },
  {
   "cell_type": "markdown",
   "metadata": {},
   "source": [
    "Now let's add some noise to our results using `numpy`'s built-in `random` module."
   ]
  },
  {
   "cell_type": "code",
   "execution_count": null,
   "metadata": {},
   "outputs": [],
   "source": [
    "# add in noise drawn from a normal distribution\n",
    "ye = np.random.normal(loc=0., scale=5., size=n)  # jitter\n",
    "yobs = y + ye  # observed result"
   ]
  },
  {
   "cell_type": "markdown",
   "metadata": {},
   "source": [
    "Let's see how our results look. **Note that you should *always* label your axes when making plots.** You'll almost always also want to give your plots descriptive titles."
   ]
  },
  {
   "cell_type": "code",
   "execution_count": null,
   "metadata": {},
   "outputs": [],
   "source": [
    "# plot our results\n",
    "plt.figure(figsize=(8, 8))\n",
    "plt.plot(x, yobs)\n",
    "plt.plot(x, y)\n",
    "plt.xlabel('x')\n",
    "plt.ylabel('y')\n",
    "plt.title('A (Noisy) Line')\n",
    "plt.tight_layout()"
   ]
  },
  {
   "cell_type": "markdown",
   "metadata": {},
   "source": [
    "Try to break down exactly what each line in the above cell block is doing. Try experimenting with each one to try and confirm your suspicions. You are encouraged to play around with the parameters above to get some more familiarity with plotting.\n",
    "\n",
    "Once you feel comfortable with the basic results, see if you can:\n",
    "1. Change the colors used for plotting.\n",
    "2. Change the \"linestyle\" used for plotting from connected lines to unconnected dots.\n",
    "3. Change the x and y limits in the plot.\n",
    "\n",
    "Feel free to use any resources you want to figure this out. For immediate results, try the `help` function (see below) or **Shift-Tab** within a function for in-line documentation. There's also some official documentation [online](https://matplotlib.org/faq/usage_faq.html)."
   ]
  },
  {
   "cell_type": "code",
   "execution_count": null,
   "metadata": {},
   "outputs": [],
   "source": [
    "help(plt.plot)"
   ]
  },
  {
   "cell_type": "markdown",
   "metadata": {},
   "source": [
    "## Setting Plot Defaults"
   ]
  },
  {
   "cell_type": "markdown",
   "metadata": {},
   "source": [
    "The default label and axes markers are generally too small to easily read (especially when showing people plots). Luckily, it's pretty straightforward to change the plotting defaults for `matplotlib` to make things easier to read. We can override the defaults whenever we plot something (which we'll get to in a bit) or we can just update them all at once (as below)."
   ]
  },
  {
   "cell_type": "code",
   "execution_count": null,
   "metadata": {},
   "outputs": [],
   "source": [
    "# re-defining plotting defaults\n",
    "rcParams.update({'xtick.major.pad': '7.0'})\n",
    "rcParams.update({'xtick.major.size': '7.5'})\n",
    "rcParams.update({'xtick.major.width': '1.5'})\n",
    "rcParams.update({'xtick.minor.pad': '7.0'})\n",
    "rcParams.update({'xtick.minor.size': '3.5'})\n",
    "rcParams.update({'xtick.minor.width': '1.0'})\n",
    "rcParams.update({'ytick.major.pad': '7.0'})\n",
    "rcParams.update({'ytick.major.size': '7.5'})\n",
    "rcParams.update({'ytick.major.width': '1.5'})\n",
    "rcParams.update({'ytick.minor.pad': '7.0'})\n",
    "rcParams.update({'ytick.minor.size': '3.5'})\n",
    "rcParams.update({'ytick.minor.width': '1.0'})\n",
    "rcParams.update({'axes.titlepad': '15.0'})\n",
    "rcParams.update({'font.size': 30})"
   ]
  },
  {
   "cell_type": "markdown",
   "metadata": {},
   "source": [
    "The set of commands above probably didn't work on the first try. What gives? Looking at the error, it's telling us that the name 'rcParams' is not defined in any capacity. This makes some sense: we never defined this variable anywhere. See if you can find out where to import it.\n",
    "\n",
    "Let's re-plot our results to see what updating our defaults has changed."
   ]
  },
  {
   "cell_type": "code",
   "execution_count": null,
   "metadata": {},
   "outputs": [],
   "source": [
    "# plot our results\n",
    "..."
   ]
  },
  {
   "cell_type": "markdown",
   "metadata": {},
   "source": [
    "As above, play around with changing the parameters of the plot to try to get each of the two components (the underlying line and the noisy data) to clearly appear. In particular, try to see if adjusting the `alpha` and `linewidth` parameters can help."
   ]
  },
  {
   "cell_type": "markdown",
   "metadata": {},
   "source": [
    "## Simulating Randomness"
   ]
  },
  {
   "cell_type": "markdown",
   "metadata": {},
   "source": [
    "Now that we have some familiarity with plotting, let's now turn instead to the mock data we used to generate it. Based on the code we used above, try to:\n",
    "1. Change the original relationship from a linear relationship to a quadratic one.\n",
    "2. Change the type of random noise we are adding to the data from Normally-distributed noise to something else (uniform, etc.)."
   ]
  },
  {
   "cell_type": "code",
   "execution_count": null,
   "metadata": {},
   "outputs": [],
   "source": [
    "# define a relationship: y = a*x**2 + b*x + c\n",
    "y = ...  # intrinsic relationship\n",
    "\n",
    "# add in noise\n",
    "ye = ...  # jitter\n",
    "yobs = ...  # observed results"
   ]
  },
  {
   "cell_type": "markdown",
   "metadata": {},
   "source": [
    "Let's see how our results look."
   ]
  },
  {
   "cell_type": "code",
   "execution_count": null,
   "metadata": {},
   "outputs": [],
   "source": [
    "# plot our results\n",
    "..."
   ]
  },
  {
   "cell_type": "markdown",
   "metadata": {},
   "source": [
    "Play around with your setup until the both the intrinsic relationship and the noise are clearly visible. Feel free to explore alternate visualizations, including `plt.semilogx`, `plt.semilogy` and `plt.loglog`."
   ]
  },
  {
   "cell_type": "markdown",
   "metadata": {},
   "source": [
    "Finally, if you feel comfortable with the above methods, try to see if you can plot both the observed points and there associated errors using `plt.errorbar`. Again, experiment with plotting options until you are happy that the relevant features in the data can be clearly communicated in your plot."
   ]
  },
  {
   "cell_type": "code",
   "execution_count": null,
   "metadata": {},
   "outputs": [],
   "source": [
    "plt.errorbar(x, yobs, yerr=5.)"
   ]
  },
  {
   "cell_type": "markdown",
   "metadata": {},
   "source": [
    "# Photometry"
   ]
  },
  {
   "cell_type": "markdown",
   "metadata": {},
   "source": [
    "We will now move on to the main exercise for today: stellar photometry.\n",
    "\n",
    "Photometry is measured through bandpass filters, like those shown below. The amount of light detected by the filter (the relative transmission) is on the y-axis, with the corresponding wavelength in Angstroms ($10^{-10}$ m) on the x-axis. Each filter is particularly sensitive to a specific range of wavelengths.\n",
    "\n",
    "[Bessell 2005](https://www-annualreviews-org.ezp-prod1.hul.harvard.edu/doi/pdf/10.1146/annurev.astro.41.082801.100251) Fig. 1 | [Bessell 2005](https://www-annualreviews-org.ezp-prod1.hul.harvard.edu/doi/pdf/10.1146/annurev.astro.41.082801.100251) Fig. 3\n",
    "- | -\n",
    "![alt](figs/bessell2005_fig1.png) | ![alt](figs/bessell2005_fig3.png)\n",
    "\n",
    "Ideally, the filters would have a \"boxcar\" shape, with sharp short and long wavelength cutoffs and a smooth, flat behavior in between. In practice, filters often have a complicated shape due to the nature of the material comprising the filter, atmospheric effects, the transmission properties of the telescope optics, and the quantum efficiency of the CCD.\n",
    "\n",
    "The amount of light we measure from a particular filter $F_X$ is therefore an average of the underlying spectrum of the source, $f_{\\nu}$, averaged over the filter bandpass $X$:\n",
    "\n",
    "$$ F_X \\equiv \\langle f_{\\nu} \\rangle_{X} = \\frac{\\int f_{\\nu}(\\nu) \\, X(\\nu) \\, d\\nu}{\\int X(\\nu) \\, d\\nu} $$\n",
    "\n",
    "$F_X$ and $f_{\\nu}$ are usually measured in units of **spectral flux density** in cgs units (erg/s/cm$^2$/Hz). $X$ is defined in terms of quantum efficiency/relative transmission (i.e. per photon at a given frequency/wavelength). We will return to this definition later. Note that astronomers often just refer to $f_{\\nu}$ as the **flux** (yes, this is horribly confusing)."
   ]
  },
  {
   "cell_type": "markdown",
   "metadata": {},
   "source": [
    "# Magnitudes"
   ]
  },
  {
   "cell_type": "markdown",
   "metadata": {},
   "source": [
    "When we observe stars, two commonly used an fundamental measurements are the star's **magnitude** and **color**.\n",
    "\n",
    "The \"magnitude\" quantifies how bright a star is relative to other objects. It measures the star's flux of photons hitting a detector. It therefore is a proxy for the apparent brightness of a star. Magnitudes are defined such that \n",
    "\n",
    "$$m = -2.5 \\log (f_{\\nu}/f_{\\rm ref}) = -2.5 \\log f_{\\nu} + C$$, \n",
    "\n",
    "where $f_{\\nu}$ is the flux of an astronomical source and $C$ is a constant based on a given **reference source** $f_{\\rm ref}."
   ]
  },
  {
   "cell_type": "markdown",
   "metadata": {},
   "source": [
    "All fluxes are measured in reference to something (like how we define how tall we are in reference to the ground usually). This \"something\" then defines the \"zero-point\" of our system, since if $f_{\\nu} = f_{\\rm ref}$ we see $m = 0$.\n",
    "\n",
    "Historically, this \"something\" has been famous stars. One such example is Vega, which defines the \"Vega system\" and is still in use today. An alternative approach is the **AB system**, which is defined relative to an absolute standard such that\n",
    "\n",
    "$$ \\boxed{m = -2.5 \\log f_{\\nu} - 48.60} $$\n",
    "\n",
    "where the units of $f_{\\nu}$ are again in cgs (erg s$^{-1}$ cm$^{-2}$ Hz$^{-1}$). The apparent (observed) magnitude is written as $m$. \n",
    "\n",
    "Note that since higher flux means a brighter source, the brightest objects will have more negative magnitudes and the faintest will have more positive magnitudes.\n",
    "\n",
    "Let's write this up as a function."
   ]
  },
  {
   "cell_type": "code",
   "execution_count": null,
   "metadata": {},
   "outputs": [],
   "source": [
    "# magnitude function\n",
    "def magnitude(flux):\n",
    "    \"\"\"Add in a docstring here describing the function.\"\"\"\n",
    "    \n",
    "    return ..."
   ]
  },
  {
   "cell_type": "markdown",
   "metadata": {},
   "source": [
    "Test out that your function works with a single flux and an array of fluxes."
   ]
  },
  {
   "cell_type": "code",
   "execution_count": null,
   "metadata": {},
   "outputs": [],
   "source": [
    "# flux test\n",
    "...\n",
    "\n",
    "# flux array test\n",
    "..."
   ]
  },
  {
   "cell_type": "markdown",
   "metadata": {},
   "source": [
    "Now let's combine this with some numerical simulation. We know that the observed flux falls off as the inverse-square of the distance:\n",
    "\n",
    "$$ f_{\\nu}(d) \\propto \\frac{L_{\\nu}}{d^2} $$\n",
    "\n",
    "Assume that:\n",
    "1. stars are distributed uniformly in space within a $2000 \\times 2000 \\times 600$ parsec X-Y-Z box centered on $(x,y,z)=(0, 0, 0)$, \n",
    "2. all stars have the same brightness $L_{\\nu}$, and\n",
    "3. $L_{\\nu}$ is defined so that $m=0$ when $d=1$ pc.\n",
    "\n",
    "Simulate 10,000 stars and compute their corresponding magnitudes. Then, plot a **histogram** using `plt.hist` to see what they look like. Play around with the plotting options and comment on what you see."
   ]
  },
  {
   "cell_type": "code",
   "execution_count": null,
   "metadata": {},
   "outputs": [],
   "source": [
    "# number of stars\n",
    "n = 10000\n",
    "\n",
    "# simulate star positions\n",
    "...\n",
    "\n",
    "# compute distances\n",
    "dists = ...\n",
    "\n",
    "# compute fluxes\n",
    "fluxes = ...\n",
    "\n",
    "# compute magnitudes\n",
    "mags = ...\n",
    "\n",
    "# plot results\n",
    "..."
   ]
  },
  {
   "cell_type": "markdown",
   "metadata": {},
   "source": [
    "# Colors"
   ]
  },
  {
   "cell_type": "markdown",
   "metadata": {},
   "source": [
    "The color of a star is simply the difference between the magnitudes of the star measured in two different bandpasses. Since different bandpasses are sensitive to different wavelength ranges (e.g., to either UV or IR), the color measures how much a star emits its light in e.g., UV light compared to IR light. The convention for color is\n",
    "\n",
    "$$\n",
    "    \\rm{color} = \\left(\\rm{shorter\\ wavelength\\ bandpass}\\right) - \\left(\\rm{longer\\ wavelength\\ bandpass}\\right)\n",
    "$$\n",
    "\n",
    "so, for example a color might be\n",
    "\n",
    "$$\n",
    "    \\rm{color} = UV - IR\n",
    "$$\n",
    "\n",
    "A negative color indicates a star that emits more photons at shorter wavelengths than at longer wavelengths, since larger magnitudes mean smaller fluxes. Since we often think of infrared light (longer wavelengths) as \"red\" and ultraviolet light as being \"blue\", a star that emits more strongly in IR light than UV is said to be \"redder\" than a star that emits more strongly in the UV than the IR (which we would call \"bluer\"). These two terms (\"redder\" and \"bluer\") are often used colloquially to describe measured colors between any two bands, often with respect to the typical color of stars measured from those bands."
   ]
  },
  {
   "cell_type": "markdown",
   "metadata": {},
   "source": [
    "Let's write up a function to calculate the color of a star."
   ]
  },
  {
   "cell_type": "code",
   "execution_count": null,
   "metadata": {},
   "outputs": [],
   "source": [
    "def color(blue_mag, red_mag):\n",
    "    \"\"\"Docstring describing the function.\"\"\"\n",
    "    \n",
    "    return ..."
   ]
  },
  {
   "cell_type": "markdown",
   "metadata": {},
   "source": [
    "As before, verify this function works with both single and array inputs before moving on. You can never be too safe!"
   ]
  },
  {
   "cell_type": "markdown",
   "metadata": {},
   "source": [
    "# $T_{\\rm eff}$ - Color Relation"
   ]
  },
  {
   "cell_type": "markdown",
   "metadata": {},
   "source": [
    "The color of a star tells us if the star emits more red or blue light. This is pretty useful since we know that there's a link between cooler objects emitting more red light (like an orange flame) and hotter objects emitting more blue light (like a spaceshuttle's afterburners). So the color is really telling us how hot or cool the star is, i.e., its **effective temperature** on the surface $T_{\\rm eff}$."
   ]
  },
  {
   "cell_type": "markdown",
   "metadata": {},
   "source": [
    "Assume that the flux of a star can be approximated by the **Planck function**, which is used to describe the spectral energy distribution of a **blackbody**. The Planck function looks like this:\n",
    "\n",
    "\\begin{equation*}\n",
    " \\boxed{B_{\\nu}\\left(\\nu,T\\right) = \n",
    "           \\frac{2h\\nu^3 / c^2}{exp\\left(h\\nu / kT\\right) - 1}}\n",
    "\\end{equation*}\n",
    "\n",
    "as a function of frequency, and like this:\n",
    "\n",
    "\\begin{equation*}\n",
    " \\boxed{B_{\\nu}\\left(\\lambda, T\\right) = \n",
    "        \\frac{2 h c / \\lambda^3}{exp\\left(h c / \\lambda k T\\right) - 1}}\n",
    "\\end{equation*}\n",
    "\n",
    "as a function of wavelength. Recall that wavelength and frequency are proportional according to $\\nu = c / \\lambda$, with $c$ being the speed of light. \n",
    "\n",
    "Now, we'll just impose our assumption that the flux may be approximated by the Planck function to give us an expression for the flux of the star:\n",
    "\n",
    "\\begin{equation*}\n",
    " \\boxed{f_{\\nu} = B_{\\nu}\\left(\\lambda, T_{\\rm eff}\\right)}\n",
    "\\end{equation*}\n",
    "\n",
    "So we see that the flux, or how many photons emitted by the star at a particular wavelength, is related to its temperature, $T_{\\rm eff}$."
   ]
  },
  {
   "cell_type": "markdown",
   "metadata": {},
   "source": [
    "Implement the Planck function in Python. As before, ensure that your function works for both single-value and array inputs. **Remember to check your unit conversions!**"
   ]
  },
  {
   "cell_type": "code",
   "execution_count": null,
   "metadata": {},
   "outputs": [],
   "source": [
    "# possible useful physical constants\n",
    "h = 6.626e-34  # J*s\n",
    "c = 2.998e8  # m/s\n",
    "k = 1.38e-23  # J/K\n",
    "\n",
    "# define blackbody\n",
    "def blackbody(wave, temp):\n",
    "    \"\"\"\n",
    "    A docstring that describes the function.\n",
    "    \n",
    "    Inputs\n",
    "    ------\n",
    "    wave:\n",
    "        A description of this input.\n",
    "       \n",
    "    temp:    \n",
    "        A description of this input.\n",
    "        \n",
    "    Returns\n",
    "    -------\n",
    "    bbody:\n",
    "        A description of this output\n",
    "    \n",
    "    \"\"\"\n",
    "        \n",
    "    return ..."
   ]
  },
  {
   "cell_type": "markdown",
   "metadata": {},
   "source": [
    "Make a grid of wavelength values and see how the Planck function behaves for several choices of $T_{\\rm eff}$ ranging from 5000 to 11,000 Kelvin. These are typical values for the surface temperature of some stars."
   ]
  },
  {
   "cell_type": "code",
   "execution_count": null,
   "metadata": {},
   "outputs": [],
   "source": [
    "wgrid = ...  # wavelength grid\n",
    "\n",
    "# plot up the prototypical blackbody curve\n",
    "..."
   ]
  },
  {
   "cell_type": "markdown",
   "metadata": {},
   "source": [
    "# Simple Stellar Photometry"
   ]
  },
  {
   "cell_type": "markdown",
   "metadata": {},
   "source": [
    "Normally, you'd have to integrate the Planck function over some range of wavelengths or frequencies in order to turn it into flux. However, rather than taking a proper integrated average over a range of wavelengths, we will instead assume that the flux in a particular bandpass $X$ is roughly equal to the Planck function at the \"effective wavelength\", $\\lambda_{\\rm{eff}}$, of that bandpass:\n",
    "\n",
    "$$ F_X = \\langle{f_{\\nu}\\rangle}_X \\approx f_{\\nu}(\\lambda_{\\rm{eff}}, T_{\\rm eff}) $$\n",
    "\n",
    "This assumption breaks down dramatically in the limit where the flux of the source varies rapidly across the filter. "
   ]
  },
  {
   "cell_type": "markdown",
   "metadata": {},
   "source": [
    "Here's a table with the effective wavelengths of several bandpasses: $NUV,\\ U,\\ B,\\ V,\\ R,\\ I,\\ J,\\ H,\\ K$.\n",
    "\n",
    "| Filter | $\\lambda_{\\rm{eff}} [\\mu m]$ |\n",
    "| --------- | --------- |\n",
    "| $NUV$ | 0.23 |\n",
    "| $U$ | 0.36 |\n",
    "| $B$ | 0.44 |\n",
    "| $V$ | 0.55 |\n",
    "| $R$ | 0.67 |\n",
    "| $I$ | 0.79 |\n",
    "| $J$ | 1.24 |\n",
    "| $H$ | 1.65 |\n",
    "| $K$ | 2.16 |\n",
    "\n",
    "There is also a data table called `eff_wavelengths.dat` saved with these wavelengths. Figure out how to read this data in so that we can use it later. Note that there are several built-in function within `numpy` that should make this process significantly easier than doing this line-by-line."
   ]
  },
  {
   "cell_type": "code",
   "execution_count": null,
   "metadata": {},
   "outputs": [],
   "source": [
    "# read in the effective wavelength table\n",
    "data = ...\n",
    "print(data)\n",
    "\n",
    "lambda_eff = ...  # effective wavelengths (A)"
   ]
  },
  {
   "cell_type": "markdown",
   "metadata": {},
   "source": [
    "Now that we have our data read in, functions defined, and plot environment set, compute relations between $T_{\\rm{eff}}$ and the following colors: \n",
    "1. $NUV-V$, \n",
    "2. $B-V$, \n",
    "3. $R-I$, and\n",
    "4. $J-K$. \n",
    "\n",
    "Plot the resulting relations over a grid of effective temperatures with $\\rm{log}(T_{\\rm{eff}})$ on the x-axis and the four colors plotted together on a single plot. Use different colors and/or linestyles for the different relations. Clearly label the axes and include a legend."
   ]
  },
  {
   "cell_type": "code",
   "execution_count": null,
   "metadata": {},
   "outputs": [],
   "source": [
    "# grid in effective temperatures\n",
    "tgrid = ...\n",
    "\n",
    "# magnitudes\n",
    "..."
   ]
  },
  {
   "cell_type": "code",
   "execution_count": null,
   "metadata": {
    "scrolled": false
   },
   "outputs": [],
   "source": [
    "# plot results\n",
    "..."
   ]
  },
  {
   "cell_type": "markdown",
   "metadata": {},
   "source": [
    "# The Color-Magnitude Diagram (v1)"
   ]
  },
  {
   "cell_type": "markdown",
   "metadata": {},
   "source": [
    "For the second part of the exercise, we're going to continue along getting practice reading data, manipulating it, and plotting it. This time, we'll read in a large data table from a simulation of a Sun-like star. This simulation was done with a code called [**MESA**](http://mesa.sourceforge.net/), widely used in modern stellar astrophysics."
   ]
  },
  {
   "cell_type": "markdown",
   "metadata": {},
   "source": [
    "Let's start by reading in the data table called `0010000M.track.eep`."
   ]
  },
  {
   "cell_type": "code",
   "execution_count": null,
   "metadata": {},
   "outputs": [],
   "source": [
    "# read in data\n",
    "mesa_filename = '0010000M.track.eep'\n",
    "data = ..."
   ]
  },
  {
   "cell_type": "markdown",
   "metadata": {},
   "source": [
    "Each row in this data table gives various properties of the star at a particular point of time since before it started Hydrogen fusion all the way up until it became a white dwarf. Each of the various properties corresponds to a particular column, with header names given in the file. Poke around a bit and see if you can figure out what some of the columns mean. Please ask the instructors if you're curious about some particular columns or other information associated with this simulation."
   ]
  },
  {
   "cell_type": "markdown",
   "metadata": {},
   "source": [
    "We're going to be interested in creating a **\"color-magnitude\" diagram**, or CMD, using these outputs. This is the observer's version of the **Hertzsprung-Russell diagram (HRD)**, which plots the theoretical values of luminosity ($L$) vs. effective temperature ($T_{\\rm{eff}}$). The CMD is a fundamental tool in astronomy in order to study stars as they evolve.\n",
    "\n",
    "To get on our way with creating a CMD, we're going to need magnitudes and colors. We know from the previous section how to compute magnitudes (approximately): it takes an effective wavelength for the bandpass, and for the magnitude of a particular star, we'll need its temperature.\n",
    "\n",
    "Extract the `log_Teff` column from the data table. Then, use it to compute the magnitude of the star throughout its lifetime. **Note that your blackbody fluxes need to be in cgs units for the associated AB magnitudes to be correct.**"
   ]
  },
  {
   "cell_type": "code",
   "execution_count": null,
   "metadata": {},
   "outputs": [],
   "source": [
    "# CMD magnitudes\n",
    "..."
   ]
  },
  {
   "cell_type": "markdown",
   "metadata": {},
   "source": [
    "With these magnitudes, plot CMDs of the star for:\n",
    "1. NUV - V vs. V, \n",
    "2. B - V vs. V, \n",
    "3. V - K vs. K, and\n",
    "4. J - K vs. K.\n",
    "\n",
    "Please use `plt.subplot` to ensure all these CMDs are contained within the same $2 \\times 2$ plot. Following standard convention in the literature, please also plot color on the x-axis and the magnitude on the y-axis such that magnitudes *decrease* going upwards."
   ]
  },
  {
   "cell_type": "code",
   "execution_count": null,
   "metadata": {},
   "outputs": [],
   "source": [
    "# plot CMDs\n",
    "..."
   ]
  },
  {
   "cell_type": "markdown",
   "metadata": {},
   "source": [
    "For reference, generate the same type of plot but instead showing the star's log-luminosity on the y-axis and log-effective temperature on the x-axis (i.e. the HRD). What similarities/differences do you see between the two set of figures? How do the CMDs relate to the HRD?"
   ]
  },
  {
   "cell_type": "markdown",
   "metadata": {},
   "source": [
    "# Absolute Magnitudes"
   ]
  },
  {
   "cell_type": "markdown",
   "metadata": {},
   "source": [
    "We said before that in the AB magnitude system, \n",
    "\n",
    "$$ m=-2.5\\rm{log}f_{\\nu}-48.60 $$, \n",
    "\n",
    "This is fine under our approximations, but in order to plot the magnitude of a star, we need to get a bit more into the details of what a magnitude is at this point. A magnitude says how bright an object is, but that brightness implicitly relies on the object being a certain distance away: an object will appear brighter if closer to us, and fainter if farther away. That's because the \"flux\" is defined something as the amount of energy, per second, per frequency, spread across the surface of a sphere some distance $d$ from the source of energy. In other words,\n",
    "\n",
    "$$ f_{\\nu} = \\frac{L_\\nu}{4\\pi d^2} $$\n",
    "\n",
    "where $f_\\nu$ is the flus and $L_\\nu$ is the luminosity, or energy per second emitted by the source (recall that $4\\pi R^2$ is the surface area of a sphere). As $d$ increases, the energy is spread out over a larger and larger spherical surface, and so the flux decreases. Therefore, in order to define a magnitude, we need to know the distance to the source."
   ]
  },
  {
   "cell_type": "markdown",
   "metadata": {},
   "source": [
    "Great...what about $L$? To define this, we've been modeling the flux as a blackbody, using the Planck function, and we have the definition above relating flux to luminosity. Well, the flux at the surface of the object (say, a star with radius $R$) is effectively the (surface) luminosity of the source, describing the amount of energy we'll pick up at our detectors. This gives:\n",
    "\n",
    "$$ L_{\\nu} = 4\\pi R^2 B_{\\nu}(\\lambda, T_{\\rm{eff}}) $$\n",
    "\n",
    "therefore,\n",
    "\n",
    "$$\\boxed{f_{\\nu} = \\frac{\\pi R^2 B_{\\nu}(\\lambda, T_{\\rm{eff}})}{d^2}}$$\n",
    "\n",
    "These details don't matter when we are looking at colors since they all cancel out, but they do matter when looking at magnitudes."
   ]
  },
  {
   "cell_type": "markdown",
   "metadata": {},
   "source": [
    "This definition of the flux will allow us to properly calculate the magnitude of the star at some distance. Let's assume our star is located at $d=10$ pc, which is the convention for the **absolute magnitude**, $M$, which is used when we want to standardize and compare the \"intrinsic\" magnitudes of objects. So, for our (absolute) magnitude, we have\n",
    "\n",
    "$$M=-2.5\\rm{log}\\left(\\frac{\\pi R^2 B_{\\nu}(\\lambda, T_{\\rm{eff}})}{(10\\ pc)^2}\\right)-48.60$$\n",
    "\n",
    "where $R$ is the radius of the star."
   ]
  },
  {
   "cell_type": "markdown",
   "metadata": {},
   "source": [
    "As before, implement a function below to compute the absolute magnitude of a star as a function of the effective wavelength, radius, and effective temperature assuming our previous blackbody approximation. **Note that you should make sure to check units.**"
   ]
  },
  {
   "cell_type": "code",
   "execution_count": null,
   "metadata": {},
   "outputs": [],
   "source": [
    "def abs_mag_bbody(wave, radius, temp):\n",
    "    \"\"\"Relevant docstring.\"\"\"\n",
    "    \n",
    "    return ..."
   ]
  },
  {
   "cell_type": "markdown",
   "metadata": {},
   "source": [
    "As a sanity check, compute the absolute magnitude for the sun ($R=1 R_\\odot$, $T_{\\rm eff} = 5780$) in the V band. How does this compare to the standard value of $M_V = 4.83$?"
   ]
  },
  {
   "cell_type": "markdown",
   "metadata": {},
   "source": [
    "Now remake your earlier 4-panel CMD figure with these new absolute magnitudes. How have things changed from the behavior you saw above?"
   ]
  },
  {
   "cell_type": "code",
   "execution_count": null,
   "metadata": {
    "scrolled": false
   },
   "outputs": [],
   "source": [
    "# plot CMDs\n",
    "..."
   ]
  }
 ],
 "metadata": {
  "kernelspec": {
   "display_name": "Python 3",
   "language": "python",
   "name": "python3"
  },
  "language_info": {
   "codemirror_mode": {
    "name": "ipython",
    "version": 3
   },
   "file_extension": ".py",
   "mimetype": "text/x-python",
   "name": "python",
   "nbconvert_exporter": "python",
   "pygments_lexer": "ipython3",
   "version": "3.6.5"
  }
 },
 "nbformat": 4,
 "nbformat_minor": 2
}
