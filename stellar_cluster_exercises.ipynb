{
 "cells": [
  {
   "cell_type": "markdown",
   "metadata": {},
   "source": [
    "# Overview"
   ]
  },
  {
   "cell_type": "markdown",
   "metadata": {},
   "source": [
    "In the previous exercise you investigated the basic properties of stars. In particular, you investigated the link between **temperature**, **color**, and **brightness** through the use of the Blackbody approximation. You then had the opportunity to look at some results from a simulation of a Sun-like star.\n",
    "\n",
    "Here, we want to build on the same concepts to continue practicing basic Python usage focusing on array manipulation, functions, data I/O, simulation, and plotting."
   ]
  },
  {
   "cell_type": "markdown",
   "metadata": {},
   "source": [
    "# 1. Isochrones"
   ]
  },
  {
   "cell_type": "markdown",
   "metadata": {},
   "source": [
    "An **isochrone** is a curve representing the properties of a group of stars **of the same age**. This is an extension of what you investigated last time, which was the properties of a *single star* as it evolved over time."
   ]
  },
  {
   "cell_type": "markdown",
   "metadata": {},
   "source": [
    "Go to http://waps.cfa.harvard.edu/MIST/ and click on the web interpolator for isochrones. Change the format to \"Synthetic Photometry\" then download the default set of isochrones. Read in the file in this notebook. Then explore the various columns through printing, plotting, etc. to get a feel for the data.\n",
    "\n",
    "**Note that we have also included this file in the online Github repository.**"
   ]
  },
  {
   "cell_type": "code",
   "execution_count": null,
   "metadata": {},
   "outputs": [],
   "source": []
  },
  {
   "cell_type": "markdown",
   "metadata": {},
   "source": [
    "# 2a. Hertzsrpung-Russel Diagram"
   ]
  },
  {
   "cell_type": "markdown",
   "metadata": {},
   "source": [
    "Plot $\\log T_{\\rm eff}$ vs $\\log L$ for various isochrones at different ages and see what changes. For an idea of what this could look like, check out the website where you downloaded the isochrones and/or the associated papers."
   ]
  },
  {
   "cell_type": "code",
   "execution_count": null,
   "metadata": {},
   "outputs": [],
   "source": []
  },
  {
   "cell_type": "markdown",
   "metadata": {},
   "source": [
    "# 2b. Color-Magnitude Diagram"
   ]
  },
  {
   "cell_type": "markdown",
   "metadata": {},
   "source": [
    "As above, but now do the same for $B-V$ color vs $V$-band magnitude. Experiment with various color and magnitude combinations to see how things look different at various wavelengths. Does this make sense, given your intuition from last time?"
   ]
  },
  {
   "cell_type": "code",
   "execution_count": null,
   "metadata": {},
   "outputs": [],
   "source": []
  },
  {
   "cell_type": "markdown",
   "metadata": {},
   "source": [
    "# 3. Initial Mass Function"
   ]
  },
  {
   "cell_type": "markdown",
   "metadata": {},
   "source": [
    "Isochrones represent populations of stars over a range of masses. However, we know that stars are not uniformly distributed over mass, with less massive stars substantially more common than their higher mass counterparts. The distribution of stars as a function of mass is known as the **Initial Mass Function**.\n",
    "\n",
    "Using the functional forms provided at https://en.wikipedia.org/wiki/Initial_mass_function, implement a function that returns the IMF assuming a Salpeter form and a Kroupa form. Then plot the results (probably in log-space) to check that your functions return the right results. While the absolute number doesn't mean much, the ratio between the IMF for any two masses can be interpreted as the amount of stars born at one mass relative to another."
   ]
  },
  {
   "cell_type": "code",
   "execution_count": null,
   "metadata": {},
   "outputs": [],
   "source": []
  },
  {
   "cell_type": "markdown",
   "metadata": {},
   "source": [
    "Once you've confirmed your IMF function is returning the right values, evaluate it over the grid of initial masses associated with a particular isochrone (i.e. a particular age). This gives the relative amount of stars that should be present at each initial mass point."
   ]
  },
  {
   "cell_type": "code",
   "execution_count": null,
   "metadata": {},
   "outputs": [],
   "source": []
  },
  {
   "cell_type": "markdown",
   "metadata": {},
   "source": [
    "Now, plot the Hertzsprung-Russel Diagram for the isochrone whose initial mass grid you evaluated above. If you didn't above, this time explicitly show the collection of points that make up the isochrone. Try to adjust the *size* or *color* (or both) of these points based on the relative number of stars you expect at that position based on your calculation above. Note that you might need to log-ify or otherwise transform your numbers to get this to look nice."
   ]
  },
  {
   "cell_type": "code",
   "execution_count": null,
   "metadata": {},
   "outputs": [],
   "source": []
  },
  {
   "cell_type": "markdown",
   "metadata": {},
   "source": [
    "# 4. Simulating Stars"
   ]
  },
  {
   "cell_type": "markdown",
   "metadata": {},
   "source": [
    "We now want to simulate observations of a cluster with the same age as the one you used above. The first step is trying to simulate a bunch of stars at varying masses. We can do this using the `np.random.choice` function. Use this to simulate a set of $N=1000$ stars over the set of initial masses you looked at above. You'll want to pass in something similar to the IMF values you computed to the `p` argument to make sure the relative number of stars follows the IMF distribution."
   ]
  },
  {
   "cell_type": "code",
   "execution_count": null,
   "metadata": {},
   "outputs": [],
   "source": []
  },
  {
   "cell_type": "markdown",
   "metadata": {},
   "source": [
    "# 5. Simulating Observations"
   ]
  },
  {
   "cell_type": "markdown",
   "metadata": {},
   "source": [
    "We finally want to simulate the effect of observational error. Each star will get observed in the $B$ and $V$ bands, which we will assume have an observational uncertainty of $0.02$ magnitudes. Using the fact that (1) each star has a particular initial mass and (2) each initial mass corresponds to a particular magnitude in the $B$ and $V$ bands, generate noisy magnitudes for your collection of $N$ stars using `np.random.normal`."
   ]
  },
  {
   "cell_type": "code",
   "execution_count": null,
   "metadata": {},
   "outputs": [],
   "source": []
  },
  {
   "cell_type": "markdown",
   "metadata": {},
   "source": [
    "Finally, plot up the color-magnitude diagram for your noisy magnitudes and compare this to the theoretical results from the underlying isochrone. How does it compare?"
   ]
  },
  {
   "cell_type": "code",
   "execution_count": null,
   "metadata": {},
   "outputs": [],
   "source": []
  }
 ],
 "metadata": {
  "kernelspec": {
   "display_name": "Python 3",
   "language": "python",
   "name": "python3"
  },
  "language_info": {
   "codemirror_mode": {
    "name": "ipython",
    "version": 3
   },
   "file_extension": ".py",
   "mimetype": "text/x-python",
   "name": "python",
   "nbconvert_exporter": "python",
   "pygments_lexer": "ipython3",
   "version": "3.6.5"
  }
 },
 "nbformat": 4,
 "nbformat_minor": 2
}
